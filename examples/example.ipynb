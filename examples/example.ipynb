{
 "cells": [
  {
   "cell_type": "markdown",
   "id": "6c86b6f7",
   "metadata": {},
   "source": [
    "# SWAflow example"
   ]
  },
  {
   "cell_type": "code",
   "execution_count": 1,
   "id": "6724722a",
   "metadata": {},
   "outputs": [],
   "source": [
    "from swaflow import SwaModel, SwaCallback\n",
    "import tensorflow as tf\n",
    "tf.random.set_seed(42)"
   ]
  },
  {
   "cell_type": "markdown",
   "id": "6066b3ec",
   "metadata": {},
   "source": [
    "Define a simple tensorflow model"
   ]
  },
  {
   "cell_type": "code",
   "execution_count": 2,
   "id": "f2797b15",
   "metadata": {},
   "outputs": [],
   "source": [
    "class SwaLeaky(SwaModel):\n",
    "    def __init__(self, nOut):\n",
    "        super(SwaLeaky, self).__init__()\n",
    "        self.flatten = tf.keras.layers.Flatten()\n",
    "        self.dense1 = tf.keras.layers.Dense(128)\n",
    "        self.act1 = tf.keras.layers.LeakyReLU(alpha=0.1)\n",
    "        self.dense2 = tf.keras.layers.Dense(128)\n",
    "        self.act2 = tf.keras.layers.LeakyReLU(alpha=0.1)\n",
    "        self.dense3 = tf.keras.layers.Dense(nOut)\n",
    "\n",
    "    def call(self, inputs):\n",
    "        x = self.flatten(inputs)\n",
    "        x = self.dense1(x)\n",
    "        x = self.act1(x)\n",
    "        x = self.dense2(x)\n",
    "        x = self.act2(x)\n",
    "        return self.dense3(x)"
   ]
  },
  {
   "cell_type": "markdown",
   "id": "e9da4396",
   "metadata": {},
   "source": [
    "Compile it"
   ]
  },
  {
   "cell_type": "code",
   "execution_count": 3,
   "id": "8c433dab",
   "metadata": {},
   "outputs": [],
   "source": [
    "model = SwaLeaky(1)\n",
    "model.compile(loss='mse')"
   ]
  },
  {
   "cell_type": "markdown",
   "id": "e007accd",
   "metadata": {},
   "source": [
    "Create some data"
   ]
  },
  {
   "cell_type": "code",
   "execution_count": 4,
   "id": "33b6b529",
   "metadata": {},
   "outputs": [
    {
     "name": "stdout",
     "output_type": "stream",
     "text": [
      "Epoch 1/50\n"
     ]
    },
    {
     "name": "stderr",
     "output_type": "stream",
     "text": [
      "2022-04-07 12:05:56.348461: W tensorflow/core/platform/profile_utils/cpu_utils.cc:128] Failed to get CPU frequency: 0 Hz\n"
     ]
    },
    {
     "name": "stdout",
     "output_type": "stream",
     "text": [
      "32/32 [==============================] - 0s 566us/step - loss: 0.0895\n",
      "Epoch 2/50\n",
      "32/32 [==============================] - 0s 482us/step - loss: 0.0023\n",
      "Epoch 3/50\n",
      "32/32 [==============================] - 0s 459us/step - loss: 0.0028\n",
      "Epoch 4/50\n",
      "32/32 [==============================] - 0s 457us/step - loss: 0.0024\n",
      "Epoch 5/50\n",
      "32/32 [==============================] - 0s 453us/step - loss: 0.0020\n",
      "Epoch 6/50\n",
      "32/32 [==============================] - 0s 457us/step - loss: 0.0020\n",
      "Epoch 7/50\n",
      "32/32 [==============================] - 0s 468us/step - loss: 0.0019\n",
      "Epoch 8/50\n",
      "32/32 [==============================] - 0s 458us/step - loss: 0.0017\n",
      "Epoch 9/50\n",
      "32/32 [==============================] - 0s 460us/step - loss: 0.0019\n",
      "Epoch 10/50\n",
      "32/32 [==============================] - 0s 457us/step - loss: 0.0018\n",
      "Epoch 11/50\n",
      "32/32 [==============================] - 0s 461us/step - loss: 0.0016\n",
      "Epoch 12/50\n",
      "32/32 [==============================] - 0s 463us/step - loss: 0.0015\n",
      "Epoch 13/50\n",
      "32/32 [==============================] - 0s 460us/step - loss: 0.0016\n",
      "Epoch 14/50\n",
      "32/32 [==============================] - 0s 459us/step - loss: 0.0014\n",
      "Epoch 15/50\n",
      "32/32 [==============================] - 0s 468us/step - loss: 0.0015\n",
      "Epoch 16/50\n",
      "32/32 [==============================] - 0s 476us/step - loss: 0.0014\n",
      "Epoch 17/50\n",
      "32/32 [==============================] - 0s 468us/step - loss: 0.0013\n",
      "Epoch 18/50\n",
      "32/32 [==============================] - 0s 481us/step - loss: 0.0014\n",
      "Epoch 19/50\n",
      "32/32 [==============================] - 0s 468us/step - loss: 0.0014\n",
      "Epoch 20/50\n",
      "32/32 [==============================] - 0s 465us/step - loss: 0.0010\n",
      "Epoch 21/50\n",
      "32/32 [==============================] - 0s 484us/step - loss: 0.0015\n",
      "Epoch 22/50\n",
      "32/32 [==============================] - 0s 460us/step - loss: 0.0011\n",
      "Epoch 23/50\n",
      "32/32 [==============================] - 0s 470us/step - loss: 0.0012\n",
      "Epoch 24/50\n",
      "32/32 [==============================] - 0s 467us/step - loss: 0.0012\n",
      "Epoch 25/50\n",
      "32/32 [==============================] - 0s 476us/step - loss: 0.0013\n",
      "Epoch 26/50\n",
      "32/32 [==============================] - 0s 478us/step - loss: 0.0011\n",
      "Epoch 27/50\n",
      "32/32 [==============================] - 0s 485us/step - loss: 0.0011\n",
      "Epoch 28/50\n",
      "32/32 [==============================] - 0s 511us/step - loss: 0.0011\n",
      "Epoch 29/50\n",
      "32/32 [==============================] - 0s 477us/step - loss: 8.7047e-04\n",
      "Epoch 30/50\n",
      "32/32 [==============================] - 0s 471us/step - loss: 0.0011\n",
      "Epoch 31/50\n",
      "32/32 [==============================] - 0s 471us/step - loss: 0.0012\n",
      "Epoch 32/50\n",
      "32/32 [==============================] - 0s 517us/step - loss: 8.7061e-04\n",
      "Epoch 33/50\n",
      "32/32 [==============================] - 0s 499us/step - loss: 0.0010\n",
      "Epoch 34/50\n",
      "32/32 [==============================] - 0s 477us/step - loss: 9.3537e-04\n",
      "Epoch 35/50\n",
      "32/32 [==============================] - 0s 470us/step - loss: 9.1350e-04\n",
      "Epoch 36/50\n",
      "32/32 [==============================] - 0s 487us/step - loss: 0.0012\n",
      "Epoch 37/50\n",
      "32/32 [==============================] - 0s 490us/step - loss: 7.2052e-04\n",
      "Epoch 38/50\n",
      "32/32 [==============================] - 0s 480us/step - loss: 9.2091e-04\n",
      "Epoch 39/50\n",
      "32/32 [==============================] - 0s 483us/step - loss: 9.5496e-04\n",
      "Epoch 40/50\n",
      "32/32 [==============================] - 0s 481us/step - loss: 8.6234e-04\n",
      "Epoch 41/50\n",
      "32/32 [==============================] - 0s 479us/step - loss: 9.0474e-04\n",
      "Epoch 42/50\n",
      "32/32 [==============================] - 0s 492us/step - loss: 0.0011\n",
      "Epoch 43/50\n",
      "32/32 [==============================] - 0s 494us/step - loss: 8.9110e-04\n",
      "Epoch 44/50\n",
      "32/32 [==============================] - 0s 489us/step - loss: 7.9756e-04\n",
      "Epoch 45/50\n",
      "32/32 [==============================] - 0s 501us/step - loss: 8.5444e-04\n",
      "Epoch 46/50\n",
      "32/32 [==============================] - 0s 526us/step - loss: 8.0982e-04\n",
      "Epoch 47/50\n",
      "32/32 [==============================] - 0s 547us/step - loss: 9.0049e-04\n",
      "Epoch 48/50\n",
      "32/32 [==============================] - 0s 545us/step - loss: 7.9246e-04\n",
      "Epoch 49/50\n",
      "32/32 [==============================] - 0s 501us/step - loss: 8.4591e-04\n",
      "Epoch 50/50\n",
      "32/32 [==============================] - 0s 492us/step - loss: 8.6103e-04\n"
     ]
    },
    {
     "data": {
      "text/plain": [
       "<keras.callbacks.History at 0x1686a8a00>"
      ]
     },
     "execution_count": 4,
     "metadata": {},
     "output_type": "execute_result"
    }
   ],
   "source": [
    "xs = tf.random.uniform((1000, 2))\n",
    "ys = tf.reduce_sum(xs, axis=1, keepdims=True)\n",
    "model.fit(xs, ys, epochs=50, callbacks=[SwaCallback()])"
   ]
  },
  {
   "cell_type": "markdown",
   "id": "2d4f35e3",
   "metadata": {},
   "source": [
    "For the validation data, use data outside of the training range, to test extrapolation"
   ]
  },
  {
   "cell_type": "code",
   "execution_count": 5,
   "id": "5cb5cc62",
   "metadata": {},
   "outputs": [],
   "source": [
    "xval = tf.random.uniform((5, 2))+0.5\n",
    "yval = tf.reduce_sum(xval, axis=1, keepdims=True)"
   ]
  },
  {
   "cell_type": "code",
   "execution_count": 6,
   "id": "3e3326fe",
   "metadata": {},
   "outputs": [],
   "source": [
    "ypred = model.predict(xval)"
   ]
  },
  {
   "cell_type": "code",
   "execution_count": 7,
   "id": "5eec53be",
   "metadata": {},
   "outputs": [],
   "source": [
    "mu, sigma = model.predict_with_errors(xval, scale = 0.5)"
   ]
  },
  {
   "cell_type": "code",
   "execution_count": 8,
   "id": "0f5b1fa9",
   "metadata": {},
   "outputs": [],
   "source": [
    "import matplotlib.pyplot as plt"
   ]
  },
  {
   "cell_type": "code",
   "execution_count": 9,
   "id": "47e18467",
   "metadata": {},
   "outputs": [],
   "source": [
    "yval = yval.numpy()[:,0]\n",
    "ypred = ypred[:,0]\n",
    "#ypred = ypred.numpy()\n",
    "mu = mu.numpy()[:,0]\n",
    "sigma = sigma.numpy()[:,0]"
   ]
  },
  {
   "cell_type": "code",
   "execution_count": 10,
   "id": "531b340c",
   "metadata": {},
   "outputs": [
    {
     "data": {
      "text/plain": [
       "[<matplotlib.lines.Line2D at 0x169d6d220>]"
      ]
     },
     "execution_count": 10,
     "metadata": {},
     "output_type": "execute_result"
    },
    {
     "data": {
      "image/png": "[encoded data removed]",
      "text/plain": [
       "<Figure size 432x288 with 2 Axes>"
      ]
     },
     "metadata": {
      "needs_background": "light"
     },
     "output_type": "display_data"
    }
   ],
   "source": [
    "low = min(yval)\n",
    "high = max(yval)\n",
    "fig, axs = plt.subplots(nrows=1, ncols=2)\n",
    "axs[0].plot(yval, ypred, '.')\n",
    "axs[0].set_xlabel(\"Truth\")\n",
    "axs[0].set_ylabel(\"Predicted\")\n",
    "axs[0].plot([low, high], [low, high], ls = '--', color = 'k')\n",
    "\n",
    "axs[1].errorbar(yval, mu, yerr = sigma, fmt = '.')\n",
    "axs[1].set_xlabel(\"Truth\")\n",
    "axs[1].plot([low, high], [low, high], ls = '--', color = 'k')"
   ]
  },
  {
   "cell_type": "code",
   "execution_count": null,
   "id": "f4eccee4",
   "metadata": {},
   "outputs": [],
   "source": []
  }
 ],
 "metadata": {
  "kernelspec": {
   "display_name": "Python [conda env:tf]",
   "language": "python",
   "name": "conda-env-tf-py"
  },
  "language_info": {
   "codemirror_mode": {
    "name": "ipython",
    "version": 3
   },
   "file_extension": ".py",
   "mimetype": "text/x-python",
   "name": "python",
   "nbconvert_exporter": "python",
   "pygments_lexer": "ipython3",
   "version": "3.8.12"
  }
 },
 "nbformat": 4,
 "nbformat_minor": 5
}
